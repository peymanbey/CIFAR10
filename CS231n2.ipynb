{
 "cells": [
  {
   "cell_type": "markdown",
   "metadata": {},
   "source": [
    "This is my take to implement ConvNets to solve CIFAR10 classification task"
   ]
  },
  {
   "cell_type": "markdown",
   "metadata": {},
   "source": [
    "# Fully Connected Network"
   ]
  },
  {
   "cell_type": "markdown",
   "metadata": {},
   "source": [
    "## Load data\n",
    "\n",
    "For this part I use Stanfords CS231n gugid to load the cifar10 data"
   ]
  },
  {
   "cell_type": "code",
   "execution_count": null,
   "metadata": {
    "collapsed": false
   },
   "outputs": [],
   "source": [
    "from fullyConnected import early_stop, build_fc_model_batchnorm, build_CNN, build_CNN_batchnorm\n",
    "from fullyConnected import build_2xCNN_batchnorm, build_CNN_nopool\n",
    "from fullyConnected import build_fc_model, update_functions, shared_dataset\n",
    "from lasagne.layers import  get_all_param_values, count_params, get_all_layers, get_all_params\n",
    "import numpy as np\n",
    "from data_utils import get_CIFAR10_data\n",
    "import theano.tensor as T\n",
    "import time\n",
    "import cPickle as pickle"
   ]
  },
  {
   "cell_type": "code",
   "execution_count": 2,
   "metadata": {
    "collapsed": false
   },
   "outputs": [],
   "source": [
    "# to auto reload external modules\n",
    "%load_ext autoreload\n",
    "%autoreload 2"
   ]
  },
  {
   "cell_type": "code",
   "execution_count": 3,
   "metadata": {
    "collapsed": false
   },
   "outputs": [
    {
     "name": "stdout",
     "output_type": "stream",
     "text": [
      "X_val:  (1000, 3, 32, 32)\n",
      "X_train:  (49000, 3, 32, 32)\n",
      "X_test:  (1000, 3, 32, 32)\n",
      "y_val:  (1000,)\n",
      "y_train:  (49000,)\n",
      "y_test:  (1000,)\n"
     ]
    }
   ],
   "source": [
    "# Load the (preprocessed) CIFAR10 data.\n",
    "\n",
    "data = get_CIFAR10_data()\n",
    "for k, v in data.iteritems():\n",
    "  print '%s: ' % k, v.shape"
   ]
  },
  {
   "cell_type": "markdown",
   "metadata": {},
   "source": [
    "## MLP"
   ]
  },
  {
   "cell_type": "code",
   "execution_count": 4,
   "metadata": {
    "collapsed": false
   },
   "outputs": [],
   "source": [
    "num_class = np.unique(data['y_train']).size\n",
    "\n",
    "X = T.ftensor4('X')\n",
    "y = T.ivector('y')"
   ]
  },
  {
   "cell_type": "code",
   "execution_count": 5,
   "metadata": {
    "collapsed": false
   },
   "outputs": [],
   "source": [
    "# load data to gpu for fast minibatch training\n",
    "shared_data = shared_dataset(data)\n",
    "del data"
   ]
  },
  {
   "cell_type": "code",
   "execution_count": 7,
   "metadata": {
    "collapsed": false
   },
   "outputs": [],
   "source": [
    "# build model\n",
    "# here i only use a normal MLP, you shoudln't expect very good results\n",
    "# 50% test accuracy is a good result here\n",
    "input_shape = (None, 3,32,32)\n",
    "hidden_arch = [64,128,256]\n",
    "\n",
    "network = build_fc_model(in_shape=input_shape,\n",
    "                         num_hidden=hidden_arch,\n",
    "                         num_out=num_class,\n",
    "                         in_var=X)"
   ]
  },
  {
   "cell_type": "code",
   "execution_count": null,
   "metadata": {
    "collapsed": false
   },
   "outputs": [],
   "source": [
    "test_fn, train_loss_history_, val_loss_history_, val_error_history_ = early_stop(net=network,\n",
    "                                                                                 data=shared_data,\n",
    "                                                                                 X=X, y=y,\n",
    "                                                                                 batch_size=2048,\n",
    "                                                                                 l1_reg=0,\n",
    "                                                                                 l2_reg=.01,\n",
    "                                                                                 lear_rate=1e-3,\n",
    "                                                                                 printFreq=200)"
   ]
  },
  {
   "cell_type": "code",
   "execution_count": 9,
   "metadata": {
    "collapsed": false
   },
   "outputs": [
    {
     "data": {
      "text/plain": [
       "(1.4079814, array(1.3544187545776367, dtype=float32), array(0.448))"
      ]
     },
     "execution_count": 9,
     "metadata": {},
     "output_type": "execute_result"
    }
   ],
   "source": [
    "min(train_loss_history_), min(val_loss_history_), min(val_error_history_)"
   ]
  },
  {
   "cell_type": "code",
   "execution_count": 15,
   "metadata": {
    "collapsed": false
   },
   "outputs": [],
   "source": [
    "# plot the training results\n",
    "import matplotlib.pyplot as plt\n",
    "%matplotlib inline"
   ]
  },
  {
   "cell_type": "code",
   "execution_count": 12,
   "metadata": {
    "collapsed": false
   },
   "outputs": [
    {
     "data": {
      "text/plain": [
       "[<matplotlib.lines.Line2D at 0x7f5df0513990>]"
      ]
     },
     "execution_count": 12,
     "metadata": {},
     "output_type": "execute_result"
    },
    {
     "data": {
      "image/png": "[encoded data removed]",
      "text/plain": [
       "<matplotlib.figure.Figure at 0x7f5df0513d90>"
      ]
     },
     "metadata": {},
     "output_type": "display_data"
    }
   ],
   "source": [
    "plt.plot(train_loss_history_)\n",
    "plt.plot(val_loss_history_)"
   ]
  },
  {
   "cell_type": "code",
   "execution_count": 13,
   "metadata": {
    "collapsed": false
   },
   "outputs": [
    {
     "name": "stdout",
     "output_type": "stream",
     "text": [
      "best val  accuracy: 55.2 %\n",
      "best test accuracy: 54.1 %\n"
     ]
    }
   ],
   "source": [
    "print \"best val  accuracy:\", (1-min(val_error_history_))*100,\"%\"\n",
    "print \"best test accuracy:\", (1-test_fn()[1])*100,\"%\""
   ]
  },
  {
   "cell_type": "markdown",
   "metadata": {},
   "source": [
    "## Add Dropout"
   ]
  },
  {
   "cell_type": "code",
   "execution_count": 6,
   "metadata": {
    "collapsed": false
   },
   "outputs": [],
   "source": [
    "# build model\n",
    "# here i only use a normal MLP, you shoudln't expect very good results\n",
    "# 50% test accuracy is a good result here\n",
    "input_shape = (None, 3,32,32)\n",
    "hidden_arch = [64,128,256]\n",
    "dropout = [.1,.3,.3]\n",
    "\n",
    "network = build_fc_model(in_shape=input_shape,\n",
    "                         num_hidden=hidden_arch,\n",
    "                         num_out=num_class,\n",
    "                         dropout=dropout,\n",
    "                         in_var=X)"
   ]
  },
  {
   "cell_type": "code",
   "execution_count": null,
   "metadata": {
    "collapsed": false
   },
   "outputs": [],
   "source": [
    "net, test_fn, train_loss_history_, val_loss_history_, val_error_history_ = early_stop(net=network,\n",
    "                                                                                 data=shared_data,\n",
    "                                                                                 X=X, y=y,\n",
    "                                                                                 batch_size=2048,\n",
    "                                                                                 l1_reg=0,\n",
    "                                                                                 l2_reg=0,\n",
    "                                                                                 lear_rate=1e-3,\n",
    "                                                                                 printFreq=200)"
   ]
  },
  {
   "cell_type": "markdown",
   "metadata": {},
   "source": [
    "## batch normalisation"
   ]
  },
  {
   "cell_type": "code",
   "execution_count": 18,
   "metadata": {
    "collapsed": false
   },
   "outputs": [],
   "source": [
    "# build model\n",
    "# here i only use a normal MLP, you shoudln't expect very good results\n",
    "# 50% test accuracy is a good result here\n",
    "input_shape = (None, 3,32,32)\n",
    "hidden_arch = [64,128,256]\n",
    "\n",
    "network = build_fc_model_batchnorm(in_shape=input_shape,\n",
    "                                   num_hidden=hidden_arch,\n",
    "                                   num_out=num_class,\n",
    "                                   in_var=X)"
   ]
  },
  {
   "cell_type": "code",
   "execution_count": null,
   "metadata": {
    "collapsed": false
   },
   "outputs": [],
   "source": [
    "net, test_fn, train_loss_history_, val_loss_history_, val_error_history_ = early_stop(net=network,\n",
    "                                                                                 data=shared_data,\n",
    "                                                                                 X=X, y=y,\n",
    "                                                                                 batch_size=2048,\n",
    "                                                                                 l1_reg=0,\n",
    "                                                                                 l2_reg=0.003,\n",
    "                                                                                 lear_rate=1e-3,\n",
    "                                                                                 printFreq=200)"
   ]
  },
  {
   "cell_type": "markdown",
   "metadata": {},
   "source": [
    "# CNN\n",
    "\n",
    "Build a simple 3layer CNN\n",
    "architechture:\n",
    "    conv - relu - 2x2 maxpool - affine - relu - affine - softmax"
   ]
  },
  {
   "cell_type": "code",
   "execution_count": 31,
   "metadata": {
    "collapsed": false
   },
   "outputs": [],
   "source": [
    "# build model\n",
    "input_shape = (None, 3,32,32)\n",
    "hidden_arch = 500\n",
    "num_filter = 32\n",
    "\n",
    "network = build_CNN(in_shape=input_shape,\n",
    "                    num_hidden=hidden_arch,\n",
    "                    num_filter = num_filter,\n",
    "                    fil_size = 7,\n",
    "                    num_out=num_class,\n",
    "                    in_var=X)"
   ]
  },
  {
   "cell_type": "code",
   "execution_count": 123,
   "metadata": {
    "collapsed": false
   },
   "outputs": [
    {
     "name": "stdout",
     "output_type": "stream",
     "text": [
      "shape training (49000, 3, 32, 32) \n",
      "\n",
      "shape validation (1000, 3, 32, 32) \n",
      "\n",
      "validation_frequency 766\n",
      "start training\n",
      "epoch 10, val_loss 1.515931, train_loss 1.421588, error 0.504000, best error 0.504000 ,in 89.863329 secs \n",
      "\n",
      "epoch 20, val_loss 1.464987, train_loss 1.352667, error 0.503000, best error 0.503000 ,in 89.489767 secs \n",
      "\n",
      "epoch 30, val_loss 1.535198, train_loss 1.330081, error 0.513000, best error 0.477000 ,in 88.422579 secs \n",
      "\n",
      "epoch 40, val_loss 1.508159, train_loss 1.317613, error 0.492000, best error 0.463000 ,in 87.452698 secs \n",
      "\n",
      "epoch 50, val_loss 1.612777, train_loss 1.305904, error 0.492000, best error 0.459000 ,in 87.260582 secs \n",
      "\n",
      "patience reached \n",
      "\n",
      "resetting network params to that of the best seen \n",
      "\n"
     ]
    }
   ],
   "source": [
    "net, test_fn, train_loss_history_, val_loss_history_, val_error_history_ = early_stop(net=network,\n",
    "                                                                                 data=shared_data,\n",
    "                                                                                 X=X, y=y,\n",
    "                                                                                 batch_size=128,\n",
    "                                                                                 l1_reg=0,\n",
    "                                                                                 l2_reg=0.001,\n",
    "                                                                                 lear_rate=1e-3,\n",
    "                                                                                 iteration=100,\n",
    "                                                                                 printFreq=10)"
   ]
  },
  {
   "cell_type": "code",
   "execution_count": 188,
   "metadata": {
    "collapsed": false
   },
   "outputs": [],
   "source": [
    "weights = get_all_param_values(net)"
   ]
  },
  {
   "cell_type": "code",
   "execution_count": 265,
   "metadata": {
    "collapsed": false
   },
   "outputs": [
    {
     "data": {
      "text/plain": [
       "<matplotlib.image.AxesImage at 0x7f8eeec0fe90>"
      ]
     },
     "execution_count": 265,
     "metadata": {},
     "output_type": "execute_result"
    },
    {
     "data": {
      "image/png": "[encoded data removed]",
      "text/plain": [
       "<matplotlib.figure.Figure at 0x7f8eeec796d0>"
      ]
     },
     "metadata": {},
     "output_type": "display_data"
    }
   ],
   "source": [
    "ind = np.random.randint(0, high=31)\n",
    "im = weights[0][ind,:,:,:].reshape(3,7,7)\n",
    "im = im.swapaxes(0,2)\n",
    "im+=abs(im.min(axis=(0,1)))\n",
    "im *= 255/im.max(axis=(0,1))\n",
    "plt.imshow(im.astype('uint8'))"
   ]
  },
  {
   "cell_type": "markdown",
   "metadata": {},
   "source": [
    "## CNN + Batch normalisation\n",
    "\n",
    "Build a simple 3layer CNN with batch normalisation\n",
    "\n",
    "architechture:\n",
    "\n",
    "    conv - relu - 2x2 maxpool - affine - relu - affine - softmax"
   ]
  },
  {
   "cell_type": "code",
   "execution_count": 268,
   "metadata": {
    "collapsed": true
   },
   "outputs": [],
   "source": [
    "# build model\n",
    "input_shape = (None, 3,32,32)\n",
    "hidden_arch = 500\n",
    "num_filter = 32\n",
    "\n",
    "network = build_CNN_batchnorm(in_shape=input_shape,\n",
    "                              num_hidden=hidden_arch,\n",
    "                              num_filter = num_filter,\n",
    "                              fil_size = 7,\n",
    "                              num_out=num_class,\n",
    "                              in_var=X)"
   ]
  },
  {
   "cell_type": "code",
   "execution_count": 269,
   "metadata": {
    "collapsed": false
   },
   "outputs": [
    {
     "name": "stdout",
     "output_type": "stream",
     "text": [
      "shape training (49000, 3, 32, 32) \n",
      "\n",
      "shape validation (1000, 3, 32, 32) \n",
      "\n",
      "validation_frequency 383\n",
      "start training\n",
      "epoch 10, val_loss 1.305629, train_loss 0.278293, error 0.351000, best error 0.348000 ,in 84.481983 secs \n",
      "\n",
      "epoch 20, val_loss 1.520522, train_loss 0.242956, error 0.359000, best error 0.342000 ,in 84.147702 secs \n",
      "\n",
      "epoch 30, val_loss 1.431203, train_loss 0.222392, error 0.351000, best error 0.322000 ,in 84.772461 secs \n",
      "\n",
      "epoch 40, val_loss 1.488086, train_loss 0.198525, error 0.334000, best error 0.322000 ,in 84.041291 secs \n",
      "\n",
      "epoch 50, val_loss 1.591749, train_loss 0.202776, error 0.348000, best error 0.322000 ,in 83.780562 secs \n",
      "\n",
      "epoch 60, val_loss 1.333655, train_loss 0.189722, error 0.321000, best error 0.301000 ,in 83.713607 secs \n",
      "\n",
      "epoch 70, val_loss 1.291978, train_loss 0.170806, error 0.322000, best error 0.301000 ,in 82.216305 secs \n",
      "\n",
      "epoch 80, val_loss 1.435140, train_loss 0.164189, error 0.337000, best error 0.301000 ,in 81.244518 secs \n",
      "\n",
      "epoch 90, val_loss 1.590224, train_loss 0.173603, error 0.336000, best error 0.301000 ,in 83.823199 secs \n",
      "\n",
      "epoch 100, val_loss 1.418609, train_loss 0.185780, error 0.326000, best error 0.301000 ,in 83.659275 secs \n",
      "\n"
     ]
    }
   ],
   "source": [
    "net, test_fn, train_loss_history_, val_loss_history_, val_error_history_ = early_stop(net=network,\n",
    "                                                                                 data=shared_data,\n",
    "                                                                                 X=X, y=y,\n",
    "                                                                                 batch_size=128,\n",
    "                                                                                 l1_reg=0,\n",
    "                                                                                 l2_reg=0.0001,\n",
    "                                                                                 lear_rate=1e-2,\n",
    "                                                                                 iteration=100,\n",
    "                                                                                 printFreq=10)"
   ]
  },
  {
   "cell_type": "code",
   "execution_count": 270,
   "metadata": {
    "collapsed": false
   },
   "outputs": [],
   "source": [
    "weights = get_all_param_values(net)"
   ]
  },
  {
   "cell_type": "code",
   "execution_count": 291,
   "metadata": {
    "collapsed": false
   },
   "outputs": [
    {
     "data": {
      "text/plain": [
       "<matplotlib.image.AxesImage at 0x7f8eeea65990>"
      ]
     },
     "execution_count": 291,
     "metadata": {},
     "output_type": "execute_result"
    },
    {
     "data": {
      "image/png": "[encoded data removed]",
      "text/plain": [
       "<matplotlib.figure.Figure at 0x7f8eed913f50>"
      ]
     },
     "metadata": {},
     "output_type": "display_data"
    }
   ],
   "source": [
    "ind = np.random.randint(0, high=31)\n",
    "im = weights[0][ind,:,:,:].reshape(3,7,7)\n",
    "im = im.swapaxes(0,2)\n",
    "im+=abs(im.min(axis=(0,1)))\n",
    "im *= 255/im.max(axis=(0,1))\n",
    "plt.imshow(im.astype('uint8'))"
   ]
  },
  {
   "cell_type": "markdown",
   "metadata": {},
   "source": [
    "## Deeper CNN + Batch normalisation\n",
    "Build a simple 4layer CNN with batch normalisation\n",
    "\n",
    "fist conv layer has 7x7 filters and the second has 3x3 filters\n",
    "\n",
    "architechture:\n",
    "\n",
    "        (conv - relu - 2x2 maxpool)x2 - affine - relu - affine - softmax"
   ]
  },
  {
   "cell_type": "code",
   "execution_count": 294,
   "metadata": {
    "collapsed": false
   },
   "outputs": [],
   "source": [
    "# build model\n",
    "input_shape = (None, 3,32,32)\n",
    "hidden_arch = 500\n",
    "num_filter = 32\n",
    "\n",
    "network = build_2xCNN_batchnorm(in_shape=input_shape,\n",
    "                              num_hidden=hidden_arch,\n",
    "                              num_filter = num_filter,\n",
    "                              fil_size = 7,\n",
    "                              num_out=num_class,\n",
    "                              in_var=X)"
   ]
  },
  {
   "cell_type": "code",
   "execution_count": 299,
   "metadata": {
    "collapsed": false
   },
   "outputs": [
    {
     "name": "stdout",
     "output_type": "stream",
     "text": [
      "shape training (49000, 3, 32, 32) \n",
      "\n",
      "shape validation (1000, 3, 32, 32) \n",
      "\n",
      "validation_frequency 24\n",
      "start training\n",
      "epoch 10, val_loss 1.215559, train_loss 0.132976, error 0.281000, best error 0.280000 ,in 53.014396 secs \n",
      "\n",
      "epoch 20, val_loss 1.195995, train_loss 0.121440, error 0.276000, best error 0.274000 ,in 51.729225 secs \n",
      "\n",
      "epoch 30, val_loss 1.176005, train_loss 0.111231, error 0.273000, best error 0.273000 ,in 51.722908 secs \n",
      "\n",
      "epoch 40, val_loss 1.157622, train_loss 0.102030, error 0.267000, best error 0.267000 ,in 51.721194 secs \n",
      "\n",
      "epoch 50, val_loss 1.140275, train_loss 0.093704, error 0.276000, best error 0.267000 ,in 51.696729 secs \n",
      "\n"
     ]
    }
   ],
   "source": [
    "net, test_fn, train_loss_history_, val_loss_history_, val_error_history_ = early_stop(net=network,\n",
    "                                                                                 data=shared_data,\n",
    "                                                                                 X=X, y=y,\n",
    "                                                                                 batch_size=2048,\n",
    "                                                                                 l1_reg=0,\n",
    "                                                                                 l2_reg=0.0001,\n",
    "                                                                                 lear_rate=1e-2,\n",
    "                                                                                 iteration=50,\n",
    "                                                                                 printFreq=10)"
   ]
  },
  {
   "cell_type": "code",
   "execution_count": 300,
   "metadata": {
    "collapsed": false
   },
   "outputs": [],
   "source": [
    "weights = get_all_param_values(net)"
   ]
  },
  {
   "cell_type": "code",
   "execution_count": 310,
   "metadata": {
    "collapsed": false
   },
   "outputs": [
    {
     "data": {
      "text/plain": [
       "<matplotlib.image.AxesImage at 0x7f8ee2346b10>"
      ]
     },
     "execution_count": 310,
     "metadata": {},
     "output_type": "execute_result"
    },
    {
     "data": {
      "image/png": "[encoded data removed]",
      "text/plain": [
       "<matplotlib.figure.Figure at 0x7f8eee6df910>"
      ]
     },
     "metadata": {},
     "output_type": "display_data"
    }
   ],
   "source": [
    "ind = np.random.randint(0, high=31)\n",
    "im = weights[0][ind,:,:,:].reshape(3,7,7)\n",
    "im = im.swapaxes(0,2)\n",
    "im+=abs(im.min(axis=(0,1)))\n",
    "im *= 255/im.max(axis=(0,1))\n",
    "plt.imshow(im.astype('uint8'))"
   ]
  },
  {
   "cell_type": "markdown",
   "metadata": {},
   "source": [
    "## Deeper CNN + Batch normalisation\n",
    "Build a simple 4layer CNN with batch normalisation with more filters\n",
    "\n",
    "fist conv layer has 7x7 filters and the second has 3x3 filters\n",
    "\n",
    "architechture:\n",
    "\n",
    "        (conv - relu - 2x2 maxpool)x2 - affine - relu - affine - softmax"
   ]
  },
  {
   "cell_type": "code",
   "execution_count": 8,
   "metadata": {
    "collapsed": false
   },
   "outputs": [],
   "source": [
    "# build model\n",
    "input_shape = (None, 3,32,32)\n",
    "hidden_arch = 500\n",
    "num_filter = [64, 128]\n",
    "filters = [3,3]\n",
    "\n",
    "network = build_2xCNN_batchnorm(in_shape=input_shape,\n",
    "                              num_hidden=hidden_arch,\n",
    "                              num_filter = num_filter,\n",
    "                              fil_size = filters,\n",
    "                              num_out=num_class,\n",
    "                              in_var=X)"
   ]
  },
  {
   "cell_type": "code",
   "execution_count": 12,
   "metadata": {
    "collapsed": false
   },
   "outputs": [
    {
     "name": "stdout",
     "output_type": "stream",
     "text": [
      "shape training (49000, 3, 32, 32) \n",
      "\n",
      "shape validation (1000, 3, 32, 32) \n",
      "\n",
      "validation_frequency 192\n",
      "start training\n",
      "epoch 30, val_loss 1.173052, train_loss 0.200253, error 0.331000, best error 0.223000 ,in 521.889631 secs \n",
      "\n",
      "epoch 60, val_loss 2.866783, train_loss 0.204561, error 0.542000, best error 0.205000 ,in 521.086501 secs \n",
      "\n",
      "epoch 90, val_loss 0.685515, train_loss 0.056368, error 0.211000, best error 0.205000 ,in 520.818964 secs \n",
      "\n",
      "epoch 120, val_loss 0.650800, train_loss 0.033078, error 0.205000, best error 0.195000 ,in 529.004199 secs \n",
      "\n",
      "epoch 150, val_loss 0.666947, train_loss 0.030752, error 0.205000, best error 0.195000 ,in 527.117913 secs \n",
      "\n"
     ]
    }
   ],
   "source": [
    "net, test_fn, train_loss_history_, val_loss_history_, val_error_history_ = early_stop(net=network,\n",
    "                                                                                 data=shared_data,\n",
    "                                                                                 X=X, y=y,\n",
    "                                                                                 batch_size=256,\n",
    "                                                                                 l1_reg=0,\n",
    "                                                                                 l2_reg=0.0001,\n",
    "                                                                                 lear_rate=1e-3,\n",
    "                                                                                 iteration=150,\n",
    "                                                                                 printFreq=30)"
   ]
  },
  {
   "cell_type": "code",
   "execution_count": 14,
   "metadata": {
    "collapsed": false
   },
   "outputs": [
    {
     "data": {
      "text/plain": [
       "array(0.225)"
      ]
     },
     "execution_count": 14,
     "metadata": {},
     "output_type": "execute_result"
    }
   ],
   "source": [
    "test_fn()[1]"
   ]
  },
  {
   "cell_type": "code",
   "execution_count": 16,
   "metadata": {
    "collapsed": false
   },
   "outputs": [
    {
     "data": {
      "text/plain": [
       "[<matplotlib.lines.Line2D at 0x7f74c173d050>]"
      ]
     },
     "execution_count": 16,
     "metadata": {},
     "output_type": "execute_result"
    },
    {
     "data": {
      "image/png": "[encoded data removed]",
      "text/plain": [
       "<matplotlib.figure.Figure at 0x7f74c173d090>"
      ]
     },
     "metadata": {},
     "output_type": "display_data"
    }
   ],
   "source": [
    "plt.plot(train_loss_history_)\n",
    "plt.plot(val_loss_history_)"
   ]
  },
  {
   "cell_type": "markdown",
   "metadata": {},
   "source": [
    "# Build a simpler CNN by avoiding pooling\n",
    "\n",
    "Here I try to replicate the approach in [ref](http://arxiv.org/pdf/1412.6806.pdf). However, I added batch normalisation to the mix.\n",
    "\n",
    "basically instead of pooling convolutions with stride 2 are used. In addition, fully connected layer is omitted"
   ]
  },
  {
   "cell_type": "code",
   "execution_count": 6,
   "metadata": {
    "collapsed": false
   },
   "outputs": [],
   "source": [
    "# build model\n",
    "input_shape = (None, 3,32,32)\n",
    "\n",
    "network = build_CNN_nopool(in_shape=input_shape,\n",
    "                           num_filter=[96,128,196, 256],\n",
    "                           fil_size=  [ 3,  3,  3,   1],\n",
    "                           strides=   [ 1,  2,  2,   1],                                                  \n",
    "                           num_out=num_class,\n",
    "                           in_var=X)"
   ]
  },
  {
   "cell_type": "code",
   "execution_count": 7,
   "metadata": {
    "collapsed": false
   },
   "outputs": [
    {
     "data": {
      "text/plain": [
       "647866"
      ]
     },
     "execution_count": 7,
     "metadata": {},
     "output_type": "execute_result"
    }
   ],
   "source": [
    "count_params(network)"
   ]
  },
  {
   "cell_type": "code",
   "execution_count": null,
   "metadata": {
    "collapsed": false,
    "scrolled": true
   },
   "outputs": [
    {
     "name": "stdout",
     "output_type": "stream",
     "text": [
      "shape training (49000, 3, 32, 32) \n",
      "\n",
      "shape validation (1000, 3, 32, 32) \n",
      "\n",
      "validation_frequency 48\n",
      "start training\n",
      "epoch 1, val_loss 3.709141, train_loss 5.706509, error 0.694000, best error 0.694000 ,in 27.283889 secs \n",
      "\n",
      "epoch 11, val_loss 0.870561, train_loss 0.935935, error 0.305000, best error 0.305000 ,in 272.078877 secs \n",
      "\n",
      "epoch 21, val_loss 0.947897, train_loss 0.548073, error 0.287000, best error 0.287000 ,in 269.509605 secs \n",
      "\n",
      "epoch 31, val_loss 1.160217, train_loss 0.300872, error 0.264000, best error 0.257000 ,in 268.177550 secs \n",
      "\n"
     ]
    }
   ],
   "source": [
    "net, test_fn, train_loss_history_, val_loss_history_, val_error_history_ = early_stop(net=network,\n",
    "                                                                                      data=shared_data,\n",
    "                                                                                      X=X, y=y,\n",
    "                                                                                      batch_size=1024,\n",
    "                                                                                      l1_reg=0,\n",
    "                                                                                      l2_reg=0.0001,\n",
    "                                                                                      lear_rate=1e-3,\n",
    "                                                                                      iteration=150,\n",
    "                                                                                      name='fullCNN',\n",
    "                                                                                      saveHistory=True,\n",
    "                                                                                      printFreq=10)"
   ]
  },
  {
   "cell_type": "code",
   "execution_count": null,
   "metadata": {
    "collapsed": true
   },
   "outputs": [],
   "source": []
  }
 ],
 "metadata": {
  "kernelspec": {
   "display_name": "Python 2",
   "language": "python",
   "name": "python2"
  },
  "language_info": {
   "codemirror_mode": {
    "name": "ipython",
    "version": 2
   },
   "file_extension": ".py",
   "mimetype": "text/x-python",
   "name": "python",
   "nbconvert_exporter": "python",
   "pygments_lexer": "ipython2",
   "version": "2.7.6"
  }
 },
 "nbformat": 4,
 "nbformat_minor": 0
}
