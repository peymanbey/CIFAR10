{
 "cells": [
  {
   "cell_type": "markdown",
   "metadata": {},
   "source": [
    "This is my take to implement ConvNets to solve CIFAR10 classification task"
   ]
  },
  {
   "cell_type": "markdown",
   "metadata": {},
   "source": [
    "# Fully Connected Network"
   ]
  },
  {
   "cell_type": "markdown",
   "metadata": {},
   "source": [
    "## Load data\n",
    "\n",
    "For this part I use Stanfords CS231n gugid to load the cifar10 data"
   ]
  },
  {
   "cell_type": "code",
   "execution_count": 1,
   "metadata": {
    "collapsed": false
   },
   "outputs": [
    {
     "name": "stderr",
     "output_type": "stream",
     "text": [
      "Using gpu device 0: GeForce GTX 960 (CNMeM is disabled, cuDNN 5005)\n"
     ]
    }
   ],
   "source": [
    "from fullyConnected import early_stop, build_fc_model_batchnorm, build_CNN, build_CNN_batchnorm\n",
    "from fullyConnected import build_2xCNN_batchnorm, build_CNN_nopool, update_functions\n",
    "from fullyConnected import build_fc_model, update_functions, shared_dataset\n",
    "from lasagne.layers import  get_all_param_values, count_params, get_all_layers, get_all_params\n",
    "import numpy as np\n",
    "from data_utils import get_CIFAR10_data\n",
    "import theano.tensor as T\n",
    "import time\n",
    "import cPickle as pickle\n",
    "# plot the training results\n",
    "import matplotlib.pyplot as plt\n",
    "%matplotlib inline"
   ]
  },
  {
   "cell_type": "code",
   "execution_count": 2,
   "metadata": {
    "collapsed": false
   },
   "outputs": [],
   "source": [
    "# to auto reload external modules\n",
    "%load_ext autoreload\n",
    "%autoreload 2"
   ]
  },
  {
   "cell_type": "code",
   "execution_count": 3,
   "metadata": {
    "collapsed": false
   },
   "outputs": [
    {
     "name": "stdout",
     "output_type": "stream",
     "text": [
      "X_val:  (1000, 3, 32, 32)\n",
      "X_train:  (49000, 3, 32, 32)\n",
      "X_test:  (1000, 3, 32, 32)\n",
      "y_val:  (1000,)\n",
      "y_train:  (49000,)\n",
      "y_test:  (1000,)\n"
     ]
    }
   ],
   "source": [
    "# Load the (preprocessed) CIFAR10 data.\n",
    "\n",
    "data = get_CIFAR10_data()\n",
    "for k, v in data.iteritems():\n",
    "  print '%s: ' % k, v.shape"
   ]
  },
  {
   "cell_type": "markdown",
   "metadata": {},
   "source": [
    "## MLP"
   ]
  },
  {
   "cell_type": "code",
   "execution_count": 4,
   "metadata": {
    "collapsed": false
   },
   "outputs": [],
   "source": [
    "num_class = np.unique(data['y_train']).size\n",
    "\n",
    "X = T.ftensor4('X')\n",
    "y = T.ivector('y')"
   ]
  },
  {
   "cell_type": "code",
   "execution_count": 5,
   "metadata": {
    "collapsed": false
   },
   "outputs": [],
   "source": [
    "# load data to gpu for fast minibatch training\n",
    "shared_data = shared_dataset(data)\n",
    "del data"
   ]
  },
  {
   "cell_type": "code",
   "execution_count": 8,
   "metadata": {
    "collapsed": false
   },
   "outputs": [],
   "source": [
    "# build model\n",
    "# here i only use a normal MLP, you shoudln't expect very good results\n",
    "# 50% test accuracy is a good result here\n",
    "input_shape = (None, 3,32,32)\n",
    "hidden_arch = [64,128,256]\n",
    "\n",
    "network = build_fc_model(in_shape=input_shape,\n",
    "                         num_hidden=hidden_arch,\n",
    "                         num_out=num_class,\n",
    "                         in_var=X)"
   ]
  },
  {
   "cell_type": "code",
   "execution_count": 12,
   "metadata": {
    "collapsed": false
   },
   "outputs": [
    {
     "name": "stdout",
     "output_type": "stream",
     "text": [
      "shape training (49000, 3, 32, 32) \n",
      "\n",
      "shape validation (1000, 3, 32, 32) \n",
      "\n",
      "validation_frequency 24\n",
      "start training\n",
      "epoch 1, val_loss 1.603677, train_loss 1.723107, error 0.557000, best error 0.557000 ,in 0.163427 secs \n",
      "\n",
      "epoch 21, val_loss 1.553563, train_loss 1.499415, error 0.537000, best error 0.482000 ,in 3.148137 secs \n",
      "\n",
      "epoch 41, val_loss 1.481901, train_loss 1.513407, error 0.524000, best error 0.482000 ,in 3.155068 secs \n",
      "\n",
      "epoch 61, val_loss 1.493237, train_loss 1.516923, error 0.515000, best error 0.472000 ,in 3.149929 secs \n",
      "\n",
      "epoch 81, val_loss 1.557146, train_loss 1.495328, error 0.526000, best error 0.472000 ,in 3.142401 secs \n",
      "\n"
     ]
    }
   ],
   "source": [
    "net,test_fn, train_loss_history_, val_loss_history_, val_error_history_ = early_stop(net=network,\n",
    "                                                                                     data=shared_data,\n",
    "                                                                                     X=X, y=y,\n",
    "                                                                                     batch_size=2048,\n",
    "                                                                                     l1_reg=0,\n",
    "                                                                                     l2_reg=.01,\n",
    "                                                                                     lear_rate=1e-3,\n",
    "                                                                                     iteration=100,\n",
    "                                                                                     printFreq=20)"
   ]
  },
  {
   "cell_type": "code",
   "execution_count": 13,
   "metadata": {
    "collapsed": false
   },
   "outputs": [
    {
     "data": {
      "text/plain": [
       "(1.4699889, array(1.3689178228378296, dtype=float32), array(0.472))"
      ]
     },
     "execution_count": 13,
     "metadata": {},
     "output_type": "execute_result"
    }
   ],
   "source": [
    "min(train_loss_history_), min(val_loss_history_), min(val_error_history_)"
   ]
  },
  {
   "cell_type": "code",
   "execution_count": 14,
   "metadata": {
    "collapsed": false
   },
   "outputs": [
    {
     "data": {
      "text/plain": [
       "[<matplotlib.lines.Line2D at 0x7f56245614d0>]"
      ]
     },
     "execution_count": 14,
     "metadata": {},
     "output_type": "execute_result"
    },
    {
     "data": {
      "image/png": "[encoded data removed]",
      "text/plain": [
       "<matplotlib.figure.Figure at 0x7f5624561f10>"
      ]
     },
     "metadata": {},
     "output_type": "display_data"
    }
   ],
   "source": [
    "plt.plot(train_loss_history_)\n",
    "plt.plot(val_loss_history_)"
   ]
  },
  {
   "cell_type": "code",
   "execution_count": 15,
   "metadata": {
    "collapsed": false
   },
   "outputs": [
    {
     "name": "stdout",
     "output_type": "stream",
     "text": [
      "best val  accuracy: 52.8 %\n",
      "best test accuracy: 53.2 %\n"
     ]
    }
   ],
   "source": [
    "print \"best val  accuracy:\", (1-min(val_error_history_))*100,\"%\"\n",
    "print \"best test accuracy:\", (1-test_fn()[1])*100,\"%\""
   ]
  },
  {
   "cell_type": "markdown",
   "metadata": {},
   "source": [
    "## Add Dropout"
   ]
  },
  {
   "cell_type": "code",
   "execution_count": 16,
   "metadata": {
    "collapsed": false
   },
   "outputs": [],
   "source": [
    "# build model\n",
    "# here i only use a normal MLP, you shoudln't expect very good results\n",
    "# 50% test accuracy is a good result here\n",
    "# note that Dropout helps to regularize the network, therefore\n",
    "# it should not improve performance if the architecture is fixed as the previous model\n",
    "input_shape = (None, 3,32,32)\n",
    "hidden_arch = [64,128,256]\n",
    "dropout = [.1,.3,.3]\n",
    "\n",
    "network = build_fc_model(in_shape=input_shape,\n",
    "                         num_hidden=hidden_arch,\n",
    "                         num_out=num_class,\n",
    "                         dropout=dropout,\n",
    "                         in_var=X)"
   ]
  },
  {
   "cell_type": "code",
   "execution_count": 24,
   "metadata": {
    "collapsed": false
   },
   "outputs": [
    {
     "name": "stdout",
     "output_type": "stream",
     "text": [
      "shape training (49000, 3, 32, 32) \n",
      "\n",
      "shape validation (1000, 3, 32, 32) \n",
      "\n",
      "validation_frequency 24\n",
      "start training\n",
      "epoch 1, val_loss 1.538582, train_loss 1.711603, error 0.534000, best error 0.534000 ,in 0.290551 secs \n",
      "\n",
      "epoch 21, val_loss 1.502558, train_loss 1.647700, error 0.519000, best error 0.499000 ,in 5.619328 secs \n",
      "\n",
      "epoch 41, val_loss 1.512357, train_loss 1.648814, error 0.528000, best error 0.491000 ,in 5.887325 secs \n",
      "\n",
      "epoch 61, val_loss 1.663144, train_loss 1.650641, error 0.556000, best error 0.491000 ,in 6.076196 secs \n",
      "\n",
      "epoch 81, val_loss 1.401283, train_loss 1.649262, error 0.484000, best error 0.484000 ,in 5.978246 secs \n",
      "\n"
     ]
    }
   ],
   "source": [
    "net,test_fn, train_loss_history_, val_loss_history_, val_error_history_ = early_stop(net=network,\n",
    "                                                                                     data=shared_data,\n",
    "                                                                                     X=X, y=y,\n",
    "                                                                                     batch_size=2048,\n",
    "                                                                                     l1_reg=0,\n",
    "                                                                                     l2_reg=.01,\n",
    "                                                                                     lear_rate=1e-3,\n",
    "                                                                                     iteration=100,\n",
    "                                                                                     printFreq=20)"
   ]
  },
  {
   "cell_type": "code",
   "execution_count": 25,
   "metadata": {
    "collapsed": false
   },
   "outputs": [
    {
     "data": {
      "text/plain": [
       "[<matplotlib.lines.Line2D at 0x7f5624b1a0d0>]"
      ]
     },
     "execution_count": 25,
     "metadata": {},
     "output_type": "execute_result"
    },
    {
     "data": {
      "image/png": "[encoded data removed]",
      "text/plain": [
       "<matplotlib.figure.Figure at 0x7f562429f210>"
      ]
     },
     "metadata": {},
     "output_type": "display_data"
    }
   ],
   "source": [
    "plt.plot(train_loss_history_)\n",
    "plt.plot(val_loss_history_)"
   ]
  },
  {
   "cell_type": "code",
   "execution_count": 26,
   "metadata": {
    "collapsed": false
   },
   "outputs": [
    {
     "name": "stdout",
     "output_type": "stream",
     "text": [
      "best val  accuracy: 51.6 %\n",
      "best test accuracy: 48.0 %\n"
     ]
    }
   ],
   "source": [
    "print \"best val  accuracy:\", (1-min(val_error_history_))*100,\"%\"\n",
    "print \"best test accuracy:\", (1-test_fn()[1])*100,\"%\""
   ]
  },
  {
   "cell_type": "markdown",
   "metadata": {},
   "source": [
    "## batch normalisation"
   ]
  },
  {
   "cell_type": "markdown",
   "metadata": {},
   "source": [
    "Here I add batch normalisation to the MLP model, without any convolution layer, to see what happens.\n",
    "I don't expect to drastic change as the batch-normalisation technique speeds-up learning, and not much more."
   ]
  },
  {
   "cell_type": "code",
   "execution_count": 18,
   "metadata": {
    "collapsed": false
   },
   "outputs": [],
   "source": [
    "# build model\n",
    "# here i only use a normal MLP, you shoudln't expect very good results\n",
    "# 50% test accuracy is a good result here\n",
    "input_shape = (None, 3,32,32)\n",
    "hidden_arch = [64,128,256]\n",
    "\n",
    "network = build_fc_model_batchnorm(in_shape=input_shape,\n",
    "                                   num_hidden=hidden_arch,\n",
    "                                   num_out=num_class,\n",
    "                                   in_var=X)"
   ]
  },
  {
   "cell_type": "code",
   "execution_count": 21,
   "metadata": {
    "collapsed": false
   },
   "outputs": [
    {
     "name": "stdout",
     "output_type": "stream",
     "text": [
      "shape training (49000, 3, 32, 32) \n",
      "\n",
      "shape validation (1000, 3, 32, 32) \n",
      "\n",
      "validation_frequency 24\n",
      "start training\n",
      "epoch 1, val_loss 1.424564, train_loss 1.758554, error 0.495000, best error 0.495000 ,in 0.291607 secs \n",
      "\n",
      "epoch 21, val_loss 1.504065, train_loss 1.661150, error 0.536000, best error 0.478000 ,in 5.706652 secs \n",
      "\n",
      "epoch 41, val_loss 1.428217, train_loss 1.663188, error 0.503000, best error 0.478000 ,in 5.639629 secs \n",
      "\n",
      "epoch 61, val_loss 1.429774, train_loss 1.662209, error 0.509000, best error 0.478000 ,in 5.818938 secs \n",
      "\n",
      "epoch 81, val_loss 1.440475, train_loss 1.653599, error 0.510000, best error 0.478000 ,in 5.985794 secs \n",
      "\n"
     ]
    }
   ],
   "source": [
    "net,test_fn, train_loss_history_, val_loss_history_, val_error_history_ = early_stop(net=network,\n",
    "                                                                                     data=shared_data,\n",
    "                                                                                     X=X, y=y,\n",
    "                                                                                     batch_size=2048,\n",
    "                                                                                     l1_reg=0,\n",
    "                                                                                     l2_reg=.01,\n",
    "                                                                                     lear_rate=1e-3,\n",
    "                                                                                     iteration=100,\n",
    "                                                                                     printFreq=20)"
   ]
  },
  {
   "cell_type": "code",
   "execution_count": 22,
   "metadata": {
    "collapsed": false
   },
   "outputs": [
    {
     "data": {
      "text/plain": [
       "[<matplotlib.lines.Line2D at 0x7f561c5b0290>]"
      ]
     },
     "execution_count": 22,
     "metadata": {},
     "output_type": "execute_result"
    },
    {
     "data": {
      "image/png": "[encoded data removed]",
      "text/plain": [
       "<matplotlib.figure.Figure at 0x7f561c5b0650>"
      ]
     },
     "metadata": {},
     "output_type": "display_data"
    }
   ],
   "source": [
    "plt.plot(train_loss_history_)\n",
    "plt.plot(val_loss_history_)"
   ]
  },
  {
   "cell_type": "code",
   "execution_count": 23,
   "metadata": {
    "collapsed": false
   },
   "outputs": [
    {
     "name": "stdout",
     "output_type": "stream",
     "text": [
      "best val  accuracy: 52.2 %\n",
      "best test accuracy: 46.5 %\n"
     ]
    }
   ],
   "source": [
    "print \"best val  accuracy:\", (1-min(val_error_history_))*100,\"%\"\n",
    "print \"best test accuracy:\", (1-test_fn()[1])*100,\"%\""
   ]
  },
  {
   "cell_type": "markdown",
   "metadata": {},
   "source": [
    "# CNN\n",
    "\n",
    "Build a simple 3layer CNN\n",
    "\n",
    "architechture:\n",
    "    conv - relu - 2x2 maxpool - affine - relu - affine - softmax\n",
    "    \n",
    "Note that I only use a single convolution layer, here we can see what is changing compared to previous models.\n",
    "One convolution layer only can see a very small spatioal region in the image, here a 7x7 region. \n",
    "It is interesting to see how it compares to a fully connected network."
   ]
  },
  {
   "cell_type": "code",
   "execution_count": 12,
   "metadata": {
    "collapsed": false
   },
   "outputs": [],
   "source": [
    "# build model\n",
    "input_shape = (None, 3,32,32)\n",
    "hidden_arch = [128,256]\n",
    "num_filter = 32\n",
    "\n",
    "network = build_CNN(in_shape=input_shape,\n",
    "                    num_hidden=hidden_arch,\n",
    "                    num_filter = num_filter,\n",
    "                    fil_size = 7,\n",
    "                    num_out=num_class,\n",
    "                    in_var=X)"
   ]
  },
  {
   "cell_type": "code",
   "execution_count": 16,
   "metadata": {
    "collapsed": false
   },
   "outputs": [
    {
     "name": "stdout",
     "output_type": "stream",
     "text": [
      "shape training (49000, 3, 32, 32) \n",
      "\n",
      "shape validation (1000, 3, 32, 32) \n",
      "\n",
      "validation_frequency 383\n",
      "start training\n",
      "epoch 1, val_loss 1.412611, train_loss 1.522405, error 0.522000, best error 0.522000 ,in 3.415571 secs \n",
      "\n",
      "epoch 21, val_loss 1.298695, train_loss 1.205357, error 0.430000, best error 0.402000 ,in 68.630920 secs \n",
      "\n",
      "epoch 41, val_loss 1.192607, train_loss 1.166085, error 0.402000, best error 0.385000 ,in 69.168571 secs \n",
      "\n",
      "epoch 61, val_loss 1.173393, train_loss 1.148397, error 0.391000, best error 0.370000 ,in 69.391259 secs \n",
      "\n",
      "epoch 81, val_loss 1.155466, train_loss 1.137996, error 0.394000, best error 0.369000 ,in 68.495842 secs \n",
      "\n"
     ]
    }
   ],
   "source": [
    "net, test_fn, train_loss_history_, val_loss_history_, val_error_history_ = early_stop(net=network,\n",
    "                                                                                 data=shared_data,\n",
    "                                                                                 X=X, y=y,\n",
    "                                                                                 batch_size=128,\n",
    "                                                                                 l1_reg=0,\n",
    "                                                                                 l2_reg=0.001,\n",
    "                                                                                 lear_rate=1e-3,\n",
    "                                                                                 iteration=100,\n",
    "                                                                                 printFreq=20)"
   ]
  },
  {
   "cell_type": "code",
   "execution_count": 17,
   "metadata": {
    "collapsed": false
   },
   "outputs": [
    {
     "data": {
      "text/plain": [
       "[<matplotlib.lines.Line2D at 0x7f6a42181cd0>]"
      ]
     },
     "execution_count": 17,
     "metadata": {},
     "output_type": "execute_result"
    },
    {
     "data": {
      "image/png": "[encoded data removed]",
      "text/plain": [
       "<matplotlib.figure.Figure at 0x7f6a42dd05d0>"
      ]
     },
     "metadata": {},
     "output_type": "display_data"
    }
   ],
   "source": [
    "plt.plot(train_loss_history_)\n",
    "plt.plot(val_loss_history_)"
   ]
  },
  {
   "cell_type": "code",
   "execution_count": 19,
   "metadata": {
    "collapsed": false
   },
   "outputs": [
    {
     "name": "stdout",
     "output_type": "stream",
     "text": [
      "best val  accuracy: 63.1 %\n",
      "best test accuracy: 60.9 %\n"
     ]
    }
   ],
   "source": [
    "# using only one convolution layer we get better performance from network\n",
    "print \"best val  accuracy:\", (1-min(val_error_history_))*100,\"%\"\n",
    "print \"best test accuracy:\", (1-test_fn()[1])*100,\"%\""
   ]
  },
  {
   "cell_type": "markdown",
   "metadata": {},
   "source": [
    "## CNN + Batch normalisation\n",
    "\n",
    "Build a simple 3layer CNN with batch normalisation\n",
    "\n",
    "architechture:\n",
    "\n",
    "    conv - relu - 2x2 maxpool - affine - relu - affine - softmax\n",
    "    \n",
    "Here I try to see the improvement of batch normalisation added to the previous model.\n",
    "Note that using the guid line of the original paper, I increase the learning rate nd decrease the regularization factor."
   ]
  },
  {
   "cell_type": "code",
   "execution_count": 22,
   "metadata": {
    "collapsed": true
   },
   "outputs": [],
   "source": [
    "# build model\n",
    "input_shape = (None, 3,32,32)\n",
    "hidden_arch = [128,256]\n",
    "num_filter = 32\n",
    "\n",
    "network = build_CNN_batchnorm(in_shape=input_shape,\n",
    "                              num_hidden=hidden_arch,\n",
    "                              num_filter = num_filter,\n",
    "                              fil_size = 7,\n",
    "                              num_out=num_class,\n",
    "                              in_var=X)"
   ]
  },
  {
   "cell_type": "code",
   "execution_count": 23,
   "metadata": {
    "collapsed": false
   },
   "outputs": [
    {
     "name": "stdout",
     "output_type": "stream",
     "text": [
      "shape training (49000, 3, 32, 32) \n",
      "\n",
      "shape validation (1000, 3, 32, 32) \n",
      "\n",
      "validation_frequency 383\n",
      "start training\n",
      "epoch 1, val_loss 1.190382, train_loss 1.474517, error 0.379000, best error 0.379000 ,in 5.813212 secs \n",
      "\n",
      "epoch 21, val_loss 1.749458, train_loss 0.274766, error 0.358000, best error 0.344000 ,in 116.065721 secs \n",
      "\n",
      "epoch 41, val_loss 1.703537, train_loss 0.249831, error 0.361000, best error 0.326000 ,in 115.854108 secs \n",
      "\n",
      "epoch 61, val_loss 1.800112, train_loss 0.234629, error 0.340000, best error 0.315000 ,in 115.532391 secs \n",
      "\n",
      "epoch 81, val_loss 1.664192, train_loss 0.220790, error 0.343000, best error 0.315000 ,in 115.402596 secs \n",
      "\n"
     ]
    }
   ],
   "source": [
    "net, test_fn, train_loss_history_, val_loss_history_, val_error_history_ = early_stop(net=network,\n",
    "                                                                                 data=shared_data,\n",
    "                                                                                 X=X, y=y,\n",
    "                                                                                 batch_size=128,\n",
    "                                                                                 l1_reg=0,\n",
    "                                                                                 l2_reg=0.0001,\n",
    "                                                                                 lear_rate=1e-2,\n",
    "                                                                                 iteration=100,\n",
    "                                                                                 printFreq=20)"
   ]
  },
  {
   "cell_type": "code",
   "execution_count": 26,
   "metadata": {
    "collapsed": false
   },
   "outputs": [
    {
     "data": {
      "text/plain": [
       "[<matplotlib.lines.Line2D at 0x7f6a3a1ad990>]"
      ]
     },
     "execution_count": 26,
     "metadata": {},
     "output_type": "execute_result"
    },
    {
     "data": {
      "image/png": "[encoded data removed]",
      "text/plain": [
       "<matplotlib.figure.Figure at 0x7f6a3a1ad490>"
      ]
     },
     "metadata": {},
     "output_type": "display_data"
    }
   ],
   "source": [
    "plt.plot(train_loss_history_)\n",
    "plt.plot(val_loss_history_)"
   ]
  },
  {
   "cell_type": "code",
   "execution_count": 28,
   "metadata": {
    "collapsed": false
   },
   "outputs": [
    {
     "name": "stdout",
     "output_type": "stream",
     "text": [
      "best val  accuracy: 68.5 %\n",
      "best test accuracy: 64.4 %\n"
     ]
    }
   ],
   "source": [
    "# Batch normalisation improved the performance\n",
    "\n",
    "print \"best val  accuracy:\", (1-min(val_error_history_))*100,\"%\"\n",
    "print \"best test accuracy:\", (1-test_fn()[1])*100,\"%\""
   ]
  },
  {
   "cell_type": "markdown",
   "metadata": {},
   "source": [
    "## Deeper CNN + Batch normalisation\n",
    "Build a simple 4layer CNN with batch normalisation\n",
    "\n",
    "fist conv layer has 7x7 filters and the second has 3x3 filters\n",
    "\n",
    "architechture:\n",
    "\n",
    "        (conv - relu - 2x2 maxpool)x2 - affine - relu - affine - softmax"
   ]
  },
  {
   "cell_type": "code",
   "execution_count": 40,
   "metadata": {
    "collapsed": false
   },
   "outputs": [],
   "source": [
    "# build model\n",
    "input_shape = (None, 3,32,32)\n",
    "hidden_arch = 256\n",
    "num_filter = [32,64]\n",
    "filter_size = [7,5]\n",
    "network = build_2xCNN_batchnorm(in_shape=input_shape,\n",
    "                              num_hidden=hidden_arch,\n",
    "                              num_filter = num_filter,\n",
    "                              fil_size = filter_size,\n",
    "                              num_out=num_class,\n",
    "                              in_var=X)"
   ]
  },
  {
   "cell_type": "code",
   "execution_count": 41,
   "metadata": {
    "collapsed": false
   },
   "outputs": [
    {
     "name": "stdout",
     "output_type": "stream",
     "text": [
      "shape training (49000, 3, 32, 32) \n",
      "\n",
      "shape validation (1000, 3, 32, 32) \n",
      "\n",
      "validation_frequency 383\n",
      "start training\n",
      "epoch 1, val_loss 1.131011, train_loss 1.430652, error 0.370000, best error 0.370000 ,in 9.535417 secs \n",
      "\n",
      "epoch 21, val_loss 1.199109, train_loss 0.204532, error 0.294000, best error 0.282000 ,in 196.197937 secs \n",
      "\n",
      "epoch 41, val_loss 1.308090, train_loss 0.176949, error 0.286000, best error 0.267000 ,in 195.053981 secs \n",
      "\n",
      "epoch 61, val_loss 1.180299, train_loss 0.165021, error 0.283000, best error 0.267000 ,in 198.822055 secs \n",
      "\n",
      "epoch 81, val_loss 1.348595, train_loss 0.155663, error 0.299000, best error 0.264000 ,in 197.093655 secs \n",
      "\n"
     ]
    }
   ],
   "source": [
    "net, test_fn, train_loss_history_, val_loss_history_, val_error_history_ = early_stop(net=network,\n",
    "                                                                                 data=shared_data,\n",
    "                                                                                 X=X, y=y,\n",
    "                                                                                 batch_size=128,\n",
    "                                                                                 l1_reg=0,\n",
    "                                                                                 l2_reg=0.0001,\n",
    "                                                                                 lear_rate=1e-2,\n",
    "                                                                                 iteration=100,\n",
    "                                                                                 printFreq=20)"
   ]
  },
  {
   "cell_type": "code",
   "execution_count": 42,
   "metadata": {
    "collapsed": false
   },
   "outputs": [
    {
     "data": {
      "text/plain": [
       "[<matplotlib.lines.Line2D at 0x7f6a3a29cc90>]"
      ]
     },
     "execution_count": 42,
     "metadata": {},
     "output_type": "execute_result"
    },
    {
     "data": {
      "image/png": "[encoded data removed]",
      "text/plain": [
       "<matplotlib.figure.Figure at 0x7f6a3a29cf50>"
      ]
     },
     "metadata": {},
     "output_type": "display_data"
    }
   ],
   "source": [
    "plt.plot(train_loss_history_)\n",
    "plt.plot(val_loss_history_)"
   ]
  },
  {
   "cell_type": "code",
   "execution_count": 44,
   "metadata": {
    "collapsed": false
   },
   "outputs": [
    {
     "name": "stdout",
     "output_type": "stream",
     "text": [
      "best val  accuracy: 74.2 %\n",
      "best test accuracy: 72.8 %\n"
     ]
    }
   ],
   "source": [
    "# Deeper CNN has more spatial information to work with, hence performance improves\n",
    "\n",
    "print \"best val  accuracy:\", (1-min(val_error_history_))*100,\"%\"\n",
    "print \"best test accuracy:\", (1-test_fn()[1])*100,\"%\""
   ]
  },
  {
   "cell_type": "markdown",
   "metadata": {},
   "source": [
    "# Build a simpler CNN by avoiding pooling\n",
    "\n",
    "Here I try to replicate the approach in [ref](http://arxiv.org/pdf/1412.6806.pdf). However, I added batch normalisation to the mix.\n",
    "\n",
    "basically instead of pooling convolutions with stride 2 are used. In addition, fully connected layer is omitted"
   ]
  },
  {
   "cell_type": "code",
   "execution_count": 10,
   "metadata": {
    "collapsed": false
   },
   "outputs": [],
   "source": [
    "# build model\n",
    "input_shape = (None, 3,32,32)\n",
    "\n",
    "network = build_CNN_nopool(in_shape=input_shape,\n",
    "                           num_filter=[32,64,96,96,128],\n",
    "                           fil_size=  [ 7, 5, 3, 3,  3],\n",
    "                           strides=   [ 1, 2, 1, 2,  1],                                                  \n",
    "                           num_out=num_class,\n",
    "                           in_var=X)"
   ]
  },
  {
   "cell_type": "code",
   "execution_count": 11,
   "metadata": {
    "collapsed": false
   },
   "outputs": [
    {
     "data": {
      "text/plain": [
       "369130"
      ]
     },
     "execution_count": 11,
     "metadata": {},
     "output_type": "execute_result"
    }
   ],
   "source": [
    "count_params(network)"
   ]
  },
  {
   "cell_type": "code",
   "execution_count": 12,
   "metadata": {
    "collapsed": false
   },
   "outputs": [
    {
     "name": "stdout",
     "output_type": "stream",
     "text": [
      "shape training (49000, 3, 32, 32) \n",
      "\n",
      "shape validation (1000, 3, 32, 32) \n",
      "\n",
      "validation_frequency 96\n",
      "start training\n",
      "epoch 1, val_loss 1.684435, train_loss 5.051122, error 0.606000, best error 0.606000 ,in 15.126627 secs \n",
      "\n",
      "epoch 21, val_loss 1.070151, train_loss 0.951142, error 0.321000, best error 0.321000 ,in 300.458071 secs \n",
      "\n",
      "epoch 41, val_loss 1.008045, train_loss 0.901529, error 0.286000, best error 0.270000 ,in 300.252842 secs \n",
      "\n",
      "epoch 61, val_loss 1.303422, train_loss 0.868978, error 0.354000, best error 0.254000 ,in 300.403560 secs \n",
      "\n",
      "epoch 81, val_loss 1.117811, train_loss 0.839613, error 0.280000, best error 0.231000 ,in 300.322033 secs \n",
      "\n"
     ]
    }
   ],
   "source": [
    "network, test_fn, train_loss_history_, val_loss_history_, val_error_history_ = early_stop(net=network,\n",
    "                                                                                          data=shared_data,\n",
    "                                                                                          X=X, y=y,\n",
    "                                                                                          batch_size=512,\n",
    "                                                                                          l1_reg=0,\n",
    "                                                                                          l2_reg=0.0002,\n",
    "                                                                                          lear_rate=1e-2,\n",
    "                                                                                          iteration=100,\n",
    "                                                                                          printFreq=20)\n"
   ]
  },
  {
   "cell_type": "code",
   "execution_count": 17,
   "metadata": {
    "collapsed": false
   },
   "outputs": [
    {
     "name": "stdout",
     "output_type": "stream",
     "text": [
      "shape training (49000, 3, 32, 32) \n",
      "\n",
      "shape validation (1000, 3, 32, 32) \n",
      "\n",
      "validation_frequency 96\n",
      "start training\n",
      "epoch 1, val_loss 0.672183, train_loss 0.640716, error 0.195000, best error 0.195000 ,in 14.944637 secs \n",
      "\n",
      "epoch 3, val_loss 0.701191, train_loss 0.505578, error 0.191000, best error 0.186000 ,in 30.586258 secs \n",
      "\n",
      "epoch 5, val_loss 0.719980, train_loss 0.437595, error 0.189000, best error 0.186000 ,in 30.130817 secs \n",
      "\n",
      "epoch 7, val_loss 0.724530, train_loss 0.383423, error 0.191000, best error 0.186000 ,in 30.092684 secs \n",
      "\n",
      "epoch 9, val_loss 0.720379, train_loss 0.337466, error 0.189000, best error 0.186000 ,in 30.165180 secs \n",
      "\n"
     ]
    }
   ],
   "source": [
    "# continue training for a bit more with a smaller learning rate\n",
    "network2, test_fn, train_loss_history2_, val_loss_history2_, val_error_history_2 = early_stop(net=network,\n",
    "                                                                                              data=shared_data,\n",
    "                                                                                              X=X, y=y,\n",
    "                                                                                              batch_size=512,\n",
    "                                                                                              l1_reg=0,\n",
    "                                                                                              l2_reg=0.0002,\n",
    "                                                                                              lear_rate=1e-3,\n",
    "                                                                                              iteration=10,\n",
    "                                                                                              printFreq=2)"
   ]
  },
  {
   "cell_type": "code",
   "execution_count": 20,
   "metadata": {
    "collapsed": false
   },
   "outputs": [
    {
     "name": "stdout",
     "output_type": "stream",
     "text": [
      "best val  accuracy: 81.4 %\n",
      "best test accuracy: 82.8 %\n"
     ]
    }
   ],
   "source": [
    "# Deeper CNN has more spatial information to work with, hence performance improves\n",
    "\n",
    "print \"best val  accuracy:\", (1-min(val_error_history_2))*100,\"%\"\n",
    "print \"best test accuracy:\", (1-test_fn()[1])*100,\"%\""
   ]
  },
  {
   "cell_type": "code",
   "execution_count": 29,
   "metadata": {
    "collapsed": false
   },
   "outputs": [
    {
     "name": "stdout",
     "output_type": "stream",
     "text": [
      "shape training (49000, 3, 32, 32) \n",
      "\n",
      "shape validation (1000, 3, 32, 32) \n",
      "\n",
      "validation_frequency 383\n",
      "start training\n",
      "epoch 1, val_loss 0.804650, train_loss 0.384254, error 0.186000, best error 0.186000 ,in 18.014590 secs \n",
      "\n",
      "epoch 3, val_loss 0.763553, train_loss 0.355357, error 0.186000, best error 0.186000 ,in 35.988742 secs \n",
      "\n",
      "epoch 5, val_loss 0.734288, train_loss 0.330039, error 0.183000, best error 0.183000 ,in 36.007531 secs \n",
      "\n",
      "epoch 7, val_loss 0.713538, train_loss 0.307731, error 0.183000, best error 0.182000 ,in 35.980991 secs \n",
      "\n",
      "epoch 9, val_loss 0.699132, train_loss 0.287893, error 0.187000, best error 0.182000 ,in 35.958730 secs \n",
      "\n"
     ]
    }
   ],
   "source": [
    "# continue training for a bit more with a smaller learning rate and smaller regularizer\n",
    "network3, test_fn, train_loss_history3_, val_loss_history3_, val_error_history_3 = early_stop(net=network2,\n",
    "                                                                                              data=shared_data,\n",
    "                                                                                              X=X, y=y,\n",
    "                                                                                              batch_size=128,\n",
    "                                                                                              l1_reg=0,\n",
    "                                                                                              l2_reg=0.0003,\n",
    "                                                                                              lear_rate=1e-4,\n",
    "                                                                                              iteration=10,\n",
    "                                                                                              printFreq=2)"
   ]
  },
  {
   "cell_type": "code",
   "execution_count": 30,
   "metadata": {
    "collapsed": false
   },
   "outputs": [
    {
     "name": "stdout",
     "output_type": "stream",
     "text": [
      "best val  accuracy: 81.8 %\n",
      "best test accuracy: 82.6 %\n"
     ]
    }
   ],
   "source": [
    "# Deeper CNN has more spatial information to work with, hence performance improves\n",
    "\n",
    "print \"best val  accuracy:\", (1-min(val_error_history_3))*100,\"%\"\n",
    "print \"best test accuracy:\", (1-test_fn()[1])*100,\"%\""
   ]
  },
  {
   "cell_type": "code",
   "execution_count": 33,
   "metadata": {
    "collapsed": false
   },
   "outputs": [
    {
     "data": {
      "text/plain": [
       "[<matplotlib.lines.Line2D at 0x7ff7d0f07310>]"
      ]
     },
     "execution_count": 33,
     "metadata": {},
     "output_type": "execute_result"
    },
    {
     "data": {
      "image/png": "[encoded data removed]",
      "text/plain": [
       "<matplotlib.figure.Figure at 0x7ff7d0f07410>"
      ]
     },
     "metadata": {},
     "output_type": "display_data"
    }
   ],
   "source": [
    "plt.plot(train_loss_history_+ train_loss_history2_+ train_loss_history3_)\n",
    "plt.plot(val_loss_history_+val_loss_history2_+val_loss_history3_)"
   ]
  },
  {
   "cell_type": "code",
   "execution_count": 16,
   "metadata": {
    "collapsed": true
   },
   "outputs": [],
   "source": [
    "# # if you want to continue from a previous run\n",
    "# with open(\"fullCNN.p\", \"rb\") as f:\n",
    "#     _,train_loss_history_,val_loss_history_, val_error_history_,network = pickle.load(f)\n",
    "# X = get_all_layers(network)[0].input_var"
   ]
  },
  {
   "cell_type": "code",
   "execution_count": 15,
   "metadata": {
    "collapsed": false
   },
   "outputs": [],
   "source": [
    "# # evaluate test prediction\n",
    "# _, val_fn, test_fn = update_functions(net=network,data=shared_data,\n",
    "#                                       in_var=X, target=y)\n"
   ]
  },
  {
   "cell_type": "markdown",
   "metadata": {},
   "source": [
    "# Very deep all Conv network "
   ]
  },
  {
   "cell_type": "code",
   "execution_count": 115,
   "metadata": {
    "collapsed": true
   },
   "outputs": [],
   "source": [
    "# build model\n",
    "input_shape = (None, 3,32,32)\n",
    "\n",
    "network = build_CNN_nopool(in_shape=input_shape,nlin_func=leaky,\n",
    "                           num_filter=[64,64,64,128,128,128,256,256,256,512],\n",
    "                           fil_size=  [ 2, 2, 2,  2,  2,  2,  2,  2,  2,  1],\n",
    "                           strides=   [ 1, 1, 2,  1,  1,  2,  1,  1,  2,  1],\n",
    "                           num_out=num_class,\n",
    "                           in_var=X)"
   ]
  },
  {
   "cell_type": "code",
   "execution_count": 116,
   "metadata": {
    "collapsed": false
   },
   "outputs": [
    {
     "data": {
      "text/plain": [
       "1405962"
      ]
     },
     "execution_count": 116,
     "metadata": {},
     "output_type": "execute_result"
    }
   ],
   "source": [
    "count_params(network)"
   ]
  },
  {
   "cell_type": "code",
   "execution_count": 119,
   "metadata": {
    "collapsed": false
   },
   "outputs": [
    {
     "name": "stdout",
     "output_type": "stream",
     "text": [
      "shape training (49000, 3, 32, 32) \n",
      "\n",
      "shape validation (1000, 3, 32, 32) \n",
      "\n",
      "validation_frequency 383\n",
      "start training\n",
      "epoch 1, val_loss 0.845884, train_loss 0.769862, error 0.256000, best error 0.256000 ,in 89.046192 secs \n",
      "\n",
      "epoch 11, val_loss 1.227578, train_loss 0.587779, error 0.244000, best error 0.237000 ,in 890.154851 secs \n",
      "\n",
      "epoch 21, val_loss 1.144575, train_loss 0.523805, error 0.226000, best error 0.222000 ,in 890.467596 secs \n",
      "\n",
      "epoch 31, val_loss 1.198867, train_loss 0.479242, error 0.245000, best error 0.212000 ,in 890.476292 secs \n",
      "\n",
      "epoch 41, val_loss 1.145471, train_loss 0.444623, error 0.218000, best error 0.207000 ,in 890.558271 secs \n",
      "\n"
     ]
    }
   ],
   "source": [
    "network, test_fn, train_loss_history_, val_loss_history_, val_error_history_ = early_stop(net=network,\n",
    "                                                                                          data=shared_data,\n",
    "                                                                                          X=X, y=y,\n",
    "                                                                                          batch_size=128,\n",
    "                                                                                          l1_reg=0,\n",
    "                                                                                          l2_reg=0.0002,\n",
    "                                                                                          lear_rate=1e-3,\n",
    "                                                                                          iteration=50,\n",
    "                                                                                          printFreq=10)"
   ]
  },
  {
   "cell_type": "code",
   "execution_count": 121,
   "metadata": {
    "collapsed": false
   },
   "outputs": [
    {
     "name": "stdout",
     "output_type": "stream",
     "text": [
      " best val  accuracy: 79.3 %\n",
      "best test accuracy: 76.7 %\n"
     ]
    }
   ],
   "source": [
    "# Deeper CNN has more spatial information to work with, hence performance improves\n",
    "\n",
    "print \"best val  accuracy:\", (1-min(val_error_history_))*100,\"%\"\n",
    "print \"best test accuracy:\", (1-test_fn()[1])*100,\"%\""
   ]
  },
  {
   "cell_type": "code",
   "execution_count": 122,
   "metadata": {
    "collapsed": false
   },
   "outputs": [
    {
     "name": "stdout",
     "output_type": "stream",
     "text": [
      "shape training (49000, 3, 32, 32) \n",
      "\n",
      "shape validation (1000, 3, 32, 32) \n",
      "\n",
      "validation_frequency 383\n",
      "start training\n",
      "epoch 1, val_loss 0.846764, train_loss 0.522066, error 0.175000, best error 0.175000 ,in 88.778588 secs \n",
      "\n",
      "epoch 11, val_loss 0.741563, train_loss 0.324791, error 0.168000, best error 0.167000 ,in 891.321986 secs \n",
      "\n",
      "epoch 21, val_loss 0.689535, train_loss 0.215095, error 0.163000, best error 0.160000 ,in 891.395508 secs \n",
      "\n",
      "epoch 31, val_loss 0.677011, train_loss 0.145409, error 0.172000, best error 0.160000 ,in 891.449190 secs \n",
      "\n",
      "epoch 41, val_loss 0.687130, train_loss 0.100711, error 0.173000, best error 0.160000 ,in 898.536430 secs \n",
      "\n"
     ]
    }
   ],
   "source": [
    "network2, test_fn, train_loss_history_2, val_loss_history_2, val_error_history_2 = early_stop(net=network,\n",
    "                                                                                              data=shared_data,\n",
    "                                                                                              X=X, y=y,\n",
    "                                                                                              batch_size=128,\n",
    "                                                                                              l1_reg=0,\n",
    "                                                                                              l2_reg=0.0003,\n",
    "                                                                                              lear_rate=1e-4,\n",
    "                                                                                              iteration=50,\n",
    "                                                                                              printFreq=10)"
   ]
  },
  {
   "cell_type": "code",
   "execution_count": 128,
   "metadata": {
    "collapsed": false
   },
   "outputs": [
    {
     "name": "stdout",
     "output_type": "stream",
     "text": [
      "best val  accuracy: 84.0 %\n",
      "best test accuracy: 82.5 %\n"
     ]
    }
   ],
   "source": [
    "# Deeper CNN has more spatial information to work with, hence performance improves\n",
    "\n",
    "print \"best val  accuracy:\", (1-min(val_error_history_2))*100,\"%\"\n",
    "print \"best test accuracy:\", (1-test_fn()[1])*100,\"%\""
   ]
  },
  {
   "cell_type": "code",
   "execution_count": 129,
   "metadata": {
    "collapsed": true
   },
   "outputs": [],
   "source": [
    "pickle.dump([network, test_fn, train_loss_history_, val_loss_history_, val_error_history_,\n",
    "             network2, test_fn, train_loss_history_2, val_loss_history_2, val_error_history_2],\n",
    "                                     open(\"deepestmodel.p\", \"wb\"))"
   ]
  },
  {
   "cell_type": "code",
   "execution_count": 137,
   "metadata": {
    "collapsed": false
   },
   "outputs": [],
   "source": [
    "with open(\"deepestmodel.p\", \"rb\") as f:\n",
    "    network,_,_,_, _,network2,_,_,_,_ = pickle.load(f)"
   ]
  },
  {
   "cell_type": "code",
   "execution_count": 138,
   "metadata": {
    "collapsed": false
   },
   "outputs": [
    {
     "ename": "UnusedInputError",
     "evalue": "theano.function was asked to create a function computing outputs given certain inputs, but the provided input variable at index 2 is not part of the computational graph needed to compute the outputs: <CudaNdarrayType(float32, 4D)>.\nTo make this error into a warning, you can pass the parameter on_unused_input='warn' to theano.function. To disable it completely, use on_unused_input='ignore'.",
     "output_type": "error",
     "traceback": [
      "\u001b[1;31m---------------------------------------------------------------------------\u001b[0m",
      "\u001b[1;31mUnusedInputError\u001b[0m                          Traceback (most recent call last)",
      "\u001b[1;32m<ipython-input-138-b6f86848e3d3>\u001b[0m in \u001b[0;36m<module>\u001b[1;34m()\u001b[0m\n\u001b[0;32m      7\u001b[0m                                                                                               \u001b[0mlear_rate\u001b[0m\u001b[1;33m=\u001b[0m\u001b[1;36m1e-4\u001b[0m\u001b[1;33m,\u001b[0m\u001b[1;33m\u001b[0m\u001b[0m\n\u001b[0;32m      8\u001b[0m                                                                                               \u001b[0miteration\u001b[0m\u001b[1;33m=\u001b[0m\u001b[1;36m10\u001b[0m\u001b[1;33m,\u001b[0m\u001b[1;33m\u001b[0m\u001b[0m\n\u001b[1;32m----> 9\u001b[1;33m                                                                                               printFreq=2)\n\u001b[0m",
      "\u001b[1;32m/home/rainbow/PycharmProjects/CS231n/Code-assign/fullyConnected.pyc\u001b[0m in \u001b[0;36mearly_stop\u001b[1;34m(net, data, X, y, batch_size, l1_reg, l2_reg, lear_rate, saveHistory, name, iteration, printFreq)\u001b[0m\n\u001b[0;32m    381\u001b[0m                                                  \u001b[0ml1_reg\u001b[0m\u001b[1;33m=\u001b[0m\u001b[0ml1_reg\u001b[0m\u001b[1;33m,\u001b[0m \u001b[0ml2_reg\u001b[0m\u001b[1;33m=\u001b[0m\u001b[0ml2_reg\u001b[0m\u001b[1;33m,\u001b[0m\u001b[1;33m\u001b[0m\u001b[0m\n\u001b[0;32m    382\u001b[0m                                                  \u001b[0mlear_rate\u001b[0m\u001b[1;33m=\u001b[0m\u001b[0mlear_rate\u001b[0m\u001b[1;33m,\u001b[0m\u001b[1;33m\u001b[0m\u001b[0m\n\u001b[1;32m--> 383\u001b[1;33m                                                  batch_size=batch_size)\n\u001b[0m\u001b[0;32m    384\u001b[0m \u001b[1;33m\u001b[0m\u001b[0m\n\u001b[0;32m    385\u001b[0m     \u001b[0mX_train\u001b[0m\u001b[1;33m,\u001b[0m \u001b[0m_\u001b[0m\u001b[1;33m,\u001b[0m \u001b[0mX_val\u001b[0m\u001b[1;33m,\u001b[0m \u001b[0m_\u001b[0m\u001b[1;33m,\u001b[0m \u001b[0m_\u001b[0m\u001b[1;33m,\u001b[0m \u001b[0m_\u001b[0m \u001b[1;33m=\u001b[0m \u001b[0mdata\u001b[0m\u001b[1;33m\u001b[0m\u001b[0m\n",
      "\u001b[1;32m/home/rainbow/PycharmProjects/CS231n/Code-assign/fullyConnected.pyc\u001b[0m in \u001b[0;36mupdate_functions\u001b[1;34m(net, data, in_var, target, l1_reg, l2_reg, batch_size, lear_rate)\u001b[0m\n\u001b[0;32m    342\u001b[0m                      \u001b[0mupdates\u001b[0m\u001b[1;33m=\u001b[0m\u001b[0mupdate\u001b[0m\u001b[1;33m,\u001b[0m\u001b[1;33m\u001b[0m\u001b[0m\n\u001b[0;32m    343\u001b[0m                      givens={in_var: X_train[index * batch_size: T.minimum((index + 1) * batch_size, size_train)],\n\u001b[1;32m--> 344\u001b[1;33m                              target: y_train[index * batch_size: T.minimum((index + 1) * batch_size, size_train)]})\n\u001b[0m\u001b[0;32m    345\u001b[0m     \u001b[1;31m# validation function\u001b[0m\u001b[1;33m\u001b[0m\u001b[1;33m\u001b[0m\u001b[0m\n\u001b[0;32m    346\u001b[0m     val_fn = Tfunc(inputs=[],\n",
      "\u001b[1;32m/usr/local/lib/python2.7/dist-packages/theano/compile/function.pyc\u001b[0m in \u001b[0;36mfunction\u001b[1;34m(inputs, outputs, mode, updates, givens, no_default_updates, accept_inplace, name, rebuild_strict, allow_input_downcast, profile, on_unused_input)\u001b[0m\n\u001b[0;32m    324\u001b[0m                    \u001b[0mon_unused_input\u001b[0m\u001b[1;33m=\u001b[0m\u001b[0mon_unused_input\u001b[0m\u001b[1;33m,\u001b[0m\u001b[1;33m\u001b[0m\u001b[0m\n\u001b[0;32m    325\u001b[0m                    \u001b[0mprofile\u001b[0m\u001b[1;33m=\u001b[0m\u001b[0mprofile\u001b[0m\u001b[1;33m,\u001b[0m\u001b[1;33m\u001b[0m\u001b[0m\n\u001b[1;32m--> 326\u001b[1;33m                    output_keys=output_keys)\n\u001b[0m\u001b[0;32m    327\u001b[0m     \u001b[1;31m# We need to add the flag check_aliased inputs if we have any mutable or\u001b[0m\u001b[1;33m\u001b[0m\u001b[1;33m\u001b[0m\u001b[0m\n\u001b[0;32m    328\u001b[0m     \u001b[1;31m# borrowed used defined inputs\u001b[0m\u001b[1;33m\u001b[0m\u001b[1;33m\u001b[0m\u001b[0m\n",
      "\u001b[1;32m/usr/local/lib/python2.7/dist-packages/theano/compile/pfunc.pyc\u001b[0m in \u001b[0;36mpfunc\u001b[1;34m(params, outputs, mode, updates, givens, no_default_updates, accept_inplace, name, rebuild_strict, allow_input_downcast, profile, on_unused_input, output_keys)\u001b[0m\n\u001b[0;32m    482\u001b[0m                          \u001b[0maccept_inplace\u001b[0m\u001b[1;33m=\u001b[0m\u001b[0maccept_inplace\u001b[0m\u001b[1;33m,\u001b[0m \u001b[0mname\u001b[0m\u001b[1;33m=\u001b[0m\u001b[0mname\u001b[0m\u001b[1;33m,\u001b[0m\u001b[1;33m\u001b[0m\u001b[0m\n\u001b[0;32m    483\u001b[0m                          \u001b[0mprofile\u001b[0m\u001b[1;33m=\u001b[0m\u001b[0mprofile\u001b[0m\u001b[1;33m,\u001b[0m \u001b[0mon_unused_input\u001b[0m\u001b[1;33m=\u001b[0m\u001b[0mon_unused_input\u001b[0m\u001b[1;33m,\u001b[0m\u001b[1;33m\u001b[0m\u001b[0m\n\u001b[1;32m--> 484\u001b[1;33m                          output_keys=output_keys)\n\u001b[0m\u001b[0;32m    485\u001b[0m \u001b[1;33m\u001b[0m\u001b[0m\n\u001b[0;32m    486\u001b[0m \u001b[1;33m\u001b[0m\u001b[0m\n",
      "\u001b[1;32m/usr/local/lib/python2.7/dist-packages/theano/compile/function_module.pyc\u001b[0m in \u001b[0;36morig_function\u001b[1;34m(inputs, outputs, mode, accept_inplace, name, profile, on_unused_input, output_keys)\u001b[0m\n\u001b[0;32m   1786\u001b[0m                    \u001b[0mprofile\u001b[0m\u001b[1;33m=\u001b[0m\u001b[0mprofile\u001b[0m\u001b[1;33m,\u001b[0m\u001b[1;33m\u001b[0m\u001b[0m\n\u001b[0;32m   1787\u001b[0m                    \u001b[0mon_unused_input\u001b[0m\u001b[1;33m=\u001b[0m\u001b[0mon_unused_input\u001b[0m\u001b[1;33m,\u001b[0m\u001b[1;33m\u001b[0m\u001b[0m\n\u001b[1;32m-> 1788\u001b[1;33m                    \u001b[0moutput_keys\u001b[0m\u001b[1;33m=\u001b[0m\u001b[0moutput_keys\u001b[0m\u001b[1;33m)\u001b[0m\u001b[1;33m.\u001b[0m\u001b[0mcreate\u001b[0m\u001b[1;33m(\u001b[0m\u001b[1;33m\u001b[0m\u001b[0m\n\u001b[0m\u001b[0;32m   1789\u001b[0m             defaults)\n\u001b[0;32m   1790\u001b[0m \u001b[1;33m\u001b[0m\u001b[0m\n",
      "\u001b[1;32m/usr/local/lib/python2.7/dist-packages/theano/compile/function_module.pyc\u001b[0m in \u001b[0;36m__init__\u001b[1;34m(self, inputs, outputs, mode, accept_inplace, function_builder, profile, on_unused_input, fgraph, output_keys)\u001b[0m\n\u001b[0;32m   1424\u001b[0m \u001b[1;33m\u001b[0m\u001b[0m\n\u001b[0;32m   1425\u001b[0m         \u001b[1;31m# Check if some input variables are unused\u001b[0m\u001b[1;33m\u001b[0m\u001b[1;33m\u001b[0m\u001b[0m\n\u001b[1;32m-> 1426\u001b[1;33m         \u001b[0mself\u001b[0m\u001b[1;33m.\u001b[0m\u001b[0m_check_unused_inputs\u001b[0m\u001b[1;33m(\u001b[0m\u001b[0minputs\u001b[0m\u001b[1;33m,\u001b[0m \u001b[0moutputs\u001b[0m\u001b[1;33m,\u001b[0m \u001b[0mon_unused_input\u001b[0m\u001b[1;33m)\u001b[0m\u001b[1;33m\u001b[0m\u001b[0m\n\u001b[0m\u001b[0;32m   1427\u001b[0m \u001b[1;33m\u001b[0m\u001b[0m\n\u001b[0;32m   1428\u001b[0m         \u001b[1;31m# Make a list of (SymbolicInput|SymblicInputKits, indices,\u001b[0m\u001b[1;33m\u001b[0m\u001b[1;33m\u001b[0m\u001b[0m\n",
      "\u001b[1;32m/usr/local/lib/python2.7/dist-packages/theano/compile/function_module.pyc\u001b[0m in \u001b[0;36m_check_unused_inputs\u001b[1;34m(self, inputs, outputs, on_unused_input)\u001b[0m\n\u001b[0;32m   1563\u001b[0m                 \u001b[1;32melif\u001b[0m \u001b[0mon_unused_input\u001b[0m \u001b[1;33m==\u001b[0m \u001b[1;34m'raise'\u001b[0m\u001b[1;33m:\u001b[0m\u001b[1;33m\u001b[0m\u001b[0m\n\u001b[0;32m   1564\u001b[0m                     raise UnusedInputError(msg % (inputs.index(i),\n\u001b[1;32m-> 1565\u001b[1;33m                                                   i.variable, err_msg))\n\u001b[0m\u001b[0;32m   1566\u001b[0m                 \u001b[1;32melse\u001b[0m\u001b[1;33m:\u001b[0m\u001b[1;33m\u001b[0m\u001b[0m\n\u001b[0;32m   1567\u001b[0m                     raise ValueError(\"Invalid value for keyword \"\n",
      "\u001b[1;31mUnusedInputError\u001b[0m: theano.function was asked to create a function computing outputs given certain inputs, but the provided input variable at index 2 is not part of the computational graph needed to compute the outputs: <CudaNdarrayType(float32, 4D)>.\nTo make this error into a warning, you can pass the parameter on_unused_input='warn' to theano.function. To disable it completely, use on_unused_input='ignore'."
     ]
    }
   ],
   "source": [
    "network3, test_fn, train_loss_history_3, val_loss_history_3, val_error_history_3 = early_stop(net=network2,\n",
    "                                                                                              data=shared_data,\n",
    "                                                                                              X=X, y=y,\n",
    "                                                                                              batch_size=128,\n",
    "                                                                                              l1_reg=0,\n",
    "                                                                                              l2_reg=0.0004,\n",
    "                                                                                              lear_rate=1e-4,\n",
    "                                                                                              iteration=10,\n",
    "                                                                                              printFreq=2)"
   ]
  },
  {
   "cell_type": "code",
   "execution_count": 132,
   "metadata": {
    "collapsed": false
   },
   "outputs": [
    {
     "data": {
      "text/plain": [
       "[<matplotlib.lines.Line2D at 0x7f12c7c55b10>]"
      ]
     },
     "execution_count": 132,
     "metadata": {},
     "output_type": "execute_result"
    },
    {
     "data": {
      "image/png": "[encoded data removed]",
      "text/plain": [
       "<matplotlib.figure.Figure at 0x7f12c7c55e10>"
      ]
     },
     "metadata": {},
     "output_type": "display_data"
    }
   ],
   "source": [
    "plt.plot(train_loss_history_+ train_loss_history_2)#+ train_loss_history3_)\n",
    "plt.plot(val_loss_history_+val_loss_history_2)#+val_loss_history3_)"
   ]
  },
  {
   "cell_type": "markdown",
   "metadata": {},
   "source": [
    "# Residual layers"
   ]
  },
  {
   "cell_type": "markdown",
   "metadata": {},
   "source": [
    "Here I experiment with residual layers, the original paper proposing residual layeres is [here](https://arxiv.org/abs/1512.03385)"
   ]
  }
 ],
 "metadata": {
  "kernelspec": {
   "display_name": "Python 2",
   "language": "python",
   "name": "python2"
  },
  "language_info": {
   "codemirror_mode": {
    "name": "ipython",
    "version": 2
   },
   "file_extension": ".py",
   "mimetype": "text/x-python",
   "name": "python",
   "nbconvert_exporter": "python",
   "pygments_lexer": "ipython2",
   "version": "2.7.6"
  }
 },
 "nbformat": 4,
 "nbformat_minor": 0
}
